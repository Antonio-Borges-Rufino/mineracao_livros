{
 "cells": [
  {
   "cell_type": "code",
   "execution_count": 1,
   "id": "b5431d3a",
   "metadata": {},
   "outputs": [],
   "source": [
    "import requests\n",
    "from bs4 import BeautifulSoup"
   ]
  },
  {
   "cell_type": "code",
   "execution_count": 2,
   "id": "8046c068",
   "metadata": {},
   "outputs": [],
   "source": [
    "r = requests.get('http://books.toscrape.com')\n",
    "soup = BeautifulSoup(r.text,'html.parser')\n",
    "cat = soup.find_all(\"ul\",attrs={\"class\":\"nav nav-list\"})\n",
    "cat = str(cat[0])\n",
    "soup = BeautifulSoup(cat,'html.parser')\n",
    "cat = soup.find_all(\"li\")\n",
    "categorias_resultado = list()\n",
    "for categorias in cat:\n",
    "    site = 'http://books.toscrape.com/'+categorias.a['href']\n",
    "    categorias_resultado.append([site,categorias.a.text.strip()])\n",
    "categorias_resultado = categorias_resultado[1:]"
   ]
  },
  {
   "cell_type": "code",
   "execution_count": 5,
   "id": "dc552b7c",
   "metadata": {},
   "outputs": [],
   "source": [
    "data_set = list()\n",
    "for link, cate in categorias_resultado:\n",
    "    r = requests.get(link)\n",
    "    soup = BeautifulSoup(r.text,'html.parser')\n",
    "    livros = soup.find_all(\"li\",attrs={\"class\":\"col-xs-6 col-sm-4 col-md-3 col-lg-3\"})\n",
    "    for data in livros:\n",
    "        nome = data.h3.a['title']\n",
    "        preco = data.findAll('p',attrs={\"class\":\"price_color\"})[0].text.replace('Â£','')\n",
    "        estrela = data.p['class'][1]\n",
    "        estoque = data.findAll('p',attrs={\"class\":\"instock availability\"})[0].text.strip()\n",
    "        data_set.append([nome,preco,cate,estrela,estoque])"
   ]
  },
  {
   "cell_type": "code",
   "execution_count": 21,
   "id": "52530fb5",
   "metadata": {},
   "outputs": [],
   "source": [
    "import pandas as pd\n",
    "df = pd.DataFrame(data_set,columns=['Nome','Preco','Categoria','Estrelas','Estoque'])"
   ]
  },
  {
   "cell_type": "code",
   "execution_count": 19,
   "id": "62e30d8c",
   "metadata": {},
   "outputs": [
    {
     "data": {
      "text/plain": [
       "array(['Two', 'Four', 'Three', 'One', 'Five'], dtype=object)"
      ]
     },
     "execution_count": 19,
     "metadata": {},
     "output_type": "execute_result"
    }
   ],
   "source": [
    "df.Estrelas.unique()"
   ]
  },
  {
   "cell_type": "code",
   "execution_count": 24,
   "id": "85264149",
   "metadata": {},
   "outputs": [],
   "source": [
    "df.loc[df.Estrelas=='Two','Estrelas'] = 2\n",
    "df.loc[df.Estrelas=='Four','Estrelas'] = 4\n",
    "df.loc[df.Estrelas=='Three','Estrelas'] = 3\n",
    "df.loc[df.Estrelas=='One','Estrelas'] = 1\n",
    "df.loc[df.Estrelas=='Five','Estrelas'] = 5"
   ]
  },
  {
   "cell_type": "code",
   "execution_count": 26,
   "id": "e4812a9b",
   "metadata": {},
   "outputs": [
    {
     "data": {
      "text/plain": [
       "array(['In stock'], dtype=object)"
      ]
     },
     "execution_count": 26,
     "metadata": {},
     "output_type": "execute_result"
    }
   ],
   "source": [
    "df.Estoque.unique()"
   ]
  },
  {
   "cell_type": "code",
   "execution_count": 27,
   "id": "1a70f83e",
   "metadata": {},
   "outputs": [],
   "source": [
    "df.loc[df.Estoque=='In stock','Estoque'] = 1"
   ]
  },
  {
   "cell_type": "code",
   "execution_count": 28,
   "id": "e0e7f661",
   "metadata": {},
   "outputs": [
    {
     "data": {
      "text/html": [
       "<div>\n",
       "<style scoped>\n",
       "    .dataframe tbody tr th:only-of-type {\n",
       "        vertical-align: middle;\n",
       "    }\n",
       "\n",
       "    .dataframe tbody tr th {\n",
       "        vertical-align: top;\n",
       "    }\n",
       "\n",
       "    .dataframe thead th {\n",
       "        text-align: right;\n",
       "    }\n",
       "</style>\n",
       "<table border=\"1\" class=\"dataframe\">\n",
       "  <thead>\n",
       "    <tr style=\"text-align: right;\">\n",
       "      <th></th>\n",
       "      <th>Nome</th>\n",
       "      <th>Preco</th>\n",
       "      <th>Categoria</th>\n",
       "      <th>Estrelas</th>\n",
       "      <th>Estoque</th>\n",
       "    </tr>\n",
       "  </thead>\n",
       "  <tbody>\n",
       "    <tr>\n",
       "      <th>0</th>\n",
       "      <td>It's Only the Himalayas</td>\n",
       "      <td>45.17</td>\n",
       "      <td>Travel</td>\n",
       "      <td>2</td>\n",
       "      <td>1</td>\n",
       "    </tr>\n",
       "    <tr>\n",
       "      <th>1</th>\n",
       "      <td>Full Moon over Noahâs Ark: An Odyssey to Mou...</td>\n",
       "      <td>49.43</td>\n",
       "      <td>Travel</td>\n",
       "      <td>4</td>\n",
       "      <td>1</td>\n",
       "    </tr>\n",
       "    <tr>\n",
       "      <th>2</th>\n",
       "      <td>See America: A Celebration of Our National Par...</td>\n",
       "      <td>48.87</td>\n",
       "      <td>Travel</td>\n",
       "      <td>3</td>\n",
       "      <td>1</td>\n",
       "    </tr>\n",
       "    <tr>\n",
       "      <th>3</th>\n",
       "      <td>Vagabonding: An Uncommon Guide to the Art of L...</td>\n",
       "      <td>36.94</td>\n",
       "      <td>Travel</td>\n",
       "      <td>2</td>\n",
       "      <td>1</td>\n",
       "    </tr>\n",
       "    <tr>\n",
       "      <th>4</th>\n",
       "      <td>Under the Tuscan Sun</td>\n",
       "      <td>37.33</td>\n",
       "      <td>Travel</td>\n",
       "      <td>3</td>\n",
       "      <td>1</td>\n",
       "    </tr>\n",
       "    <tr>\n",
       "      <th>...</th>\n",
       "      <td>...</td>\n",
       "      <td>...</td>\n",
       "      <td>...</td>\n",
       "      <td>...</td>\n",
       "      <td>...</td>\n",
       "    </tr>\n",
       "    <tr>\n",
       "      <th>512</th>\n",
       "      <td>Why the Right Went Wrong: Conservatism--From G...</td>\n",
       "      <td>52.65</td>\n",
       "      <td>Politics</td>\n",
       "      <td>4</td>\n",
       "      <td>1</td>\n",
       "    </tr>\n",
       "    <tr>\n",
       "      <th>513</th>\n",
       "      <td>Equal Is Unfair: America's Misguided Fight Aga...</td>\n",
       "      <td>56.86</td>\n",
       "      <td>Politics</td>\n",
       "      <td>1</td>\n",
       "      <td>1</td>\n",
       "    </tr>\n",
       "    <tr>\n",
       "      <th>514</th>\n",
       "      <td>Amid the Chaos</td>\n",
       "      <td>36.58</td>\n",
       "      <td>Cultural</td>\n",
       "      <td>1</td>\n",
       "      <td>1</td>\n",
       "    </tr>\n",
       "    <tr>\n",
       "      <th>515</th>\n",
       "      <td>Dark Notes</td>\n",
       "      <td>19.19</td>\n",
       "      <td>Erotica</td>\n",
       "      <td>5</td>\n",
       "      <td>1</td>\n",
       "    </tr>\n",
       "    <tr>\n",
       "      <th>516</th>\n",
       "      <td>The Long Shadow of Small Ghosts: Murder and Me...</td>\n",
       "      <td>10.97</td>\n",
       "      <td>Crime</td>\n",
       "      <td>1</td>\n",
       "      <td>1</td>\n",
       "    </tr>\n",
       "  </tbody>\n",
       "</table>\n",
       "<p>517 rows × 5 columns</p>\n",
       "</div>"
      ],
      "text/plain": [
       "                                                  Nome  Preco Categoria Estrelas Estoque\n",
       "0                              It's Only the Himalayas  45.17    Travel        2       1\n",
       "1    Full Moon over Noahâs Ark: An Odyssey to Mou...  49.43    Travel        4       1\n",
       "2    See America: A Celebration of Our National Par...  48.87    Travel        3       1\n",
       "3    Vagabonding: An Uncommon Guide to the Art of L...  36.94    Travel        2       1\n",
       "4                                 Under the Tuscan Sun  37.33    Travel        3       1\n",
       "..                                                 ...    ...       ...      ...     ...\n",
       "512  Why the Right Went Wrong: Conservatism--From G...  52.65  Politics        4       1\n",
       "513  Equal Is Unfair: America's Misguided Fight Aga...  56.86  Politics        1       1\n",
       "514                                     Amid the Chaos  36.58  Cultural        1       1\n",
       "515                                         Dark Notes  19.19   Erotica        5       1\n",
       "516  The Long Shadow of Small Ghosts: Murder and Me...  10.97     Crime        1       1\n",
       "\n",
       "[517 rows x 5 columns]"
      ]
     },
     "execution_count": 28,
     "metadata": {},
     "output_type": "execute_result"
    }
   ],
   "source": [
    "df"
   ]
  },
  {
   "cell_type": "code",
   "execution_count": 30,
   "id": "8ef8d3cc",
   "metadata": {},
   "outputs": [],
   "source": [
    "df.to_csv('livros_data_set.csv')"
   ]
  }
 ],
 "metadata": {
  "kernelspec": {
   "display_name": "coleta_dados",
   "language": "python",
   "name": "coleta_dados"
  },
  "language_info": {
   "codemirror_mode": {
    "name": "ipython",
    "version": 3
   },
   "file_extension": ".py",
   "mimetype": "text/x-python",
   "name": "python",
   "nbconvert_exporter": "python",
   "pygments_lexer": "ipython3",
   "version": "3.6.8"
  }
 },
 "nbformat": 4,
 "nbformat_minor": 5
}
